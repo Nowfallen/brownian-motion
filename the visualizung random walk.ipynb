{
 "cells": [
  {
   "cell_type": "code",
   "execution_count": null,
   "id": "b32b9d25-33cb-4250-8c61-227d39e441ed",
   "metadata": {},
   "outputs": [],
   "source": [
    "import numpy as np\n",
    "import matplotlib.pyplot as plt\n",
    "from mpl_toolkits.mplot3d import Axes3D\n",
    "from matplotlib.animation import FuncAnimation, PillowWriter\n",
    "import tqdm as tqdm\n",
    "\n",
    "# defining the number of steps and the time scale\n",
    "num_steps = 100\n",
    "#steps\n",
    "stepsx=np.random.choice([-1,1],size=num_steps)\n",
    "stepsy=np.random.choice([-1,1],size=num_steps)\n",
    "stepsz=np.random.choice([-1,1],size=num_steps)\n",
    "#position\n",
    "positionx=np.cumsum(stepsx)\n",
    "positiony=np.cumsum(stepsy)\n",
    "positionz=np.cumsum(stepsz)\n",
    "\n",
    "time_steps=np.arange(num_steps)\n",
    "fig = plt.figure()\n",
    "ax = fig.add_subplot(111, projection=\"3d\")\n",
    "line, = ax.plot([], [], [])\n",
    "ax.set_xlim(positionx.min(), positionx.max())\n",
    "ax.set_ylim(positiony.min(), positiony.max())\n",
    "ax.set_zlim(positionz.min(), positionz.max())\n",
    "ax.set_xlabel(\"positionsX\")\n",
    "ax.set_ylabel(\"positionsY\")\n",
    "ax.set_zlabel(\"positionsZ\")\n",
    "ax.set_title(\"3D random walk simulation\")\n",
    "\n",
    "def update(i):\n",
    "    line.set_data(positionx[:i], positiony[:i])\n",
    "    line.set_3d_properties(positionz[:i])\n",
    "    return line,\n",
    "\n",
    "ani = FuncAnimation(fig, update, frames=num_steps, interval=20, blit=True)\n",
    "\n",
    "# Save the animation as a GIF file\n",
    "output_path = \"C:/Users/naoufal/Desktop/random_walk.gif\"  # Replace with your desired path\n",
    "writer = PillowWriter(fps=30)\n",
    "ani.save(output_path, writer=writer)\n",
    "\n",
    "plt.show()\n"
   ]
  },
  {
   "cell_type": "code",
   "execution_count": null,
   "id": "bc479357-559c-448d-b9f5-97d5f37ba347",
   "metadata": {},
   "outputs": [],
   "source": []
  }
 ],
 "metadata": {
  "kernelspec": {
   "display_name": "Python 3 (ipykernel)",
   "language": "python",
   "name": "python3"
  },
  "language_info": {
   "codemirror_mode": {
    "name": "ipython",
    "version": 3
   },
   "file_extension": ".py",
   "mimetype": "text/x-python",
   "name": "python",
   "nbconvert_exporter": "python",
   "pygments_lexer": "ipython3",
   "version": "3.9.9"
  }
 },
 "nbformat": 4,
 "nbformat_minor": 5
}
